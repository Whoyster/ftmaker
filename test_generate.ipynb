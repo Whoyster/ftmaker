{
 "cells": [
  {
   "cell_type": "code",
   "execution_count": 1,
   "metadata": {},
   "outputs": [],
   "source": [
    "from ftmaker.generate_text_and_img import generate_text, generate_and_download_img\n",
    "from ftmaker.generate_ppt import generate_ppt\n",
    "import json\n",
    "import os\n",
    "import time\n",
    "import datetime"
   ]
  },
  {
   "cell_type": "code",
   "execution_count": 6,
   "metadata": {},
   "outputs": [],
   "source": [
    "text_system_prompt = \"\"\"\n",
    "USER\n",
    "\"protagonist\" : \"백유진\",\n",
    "\"preference\" : \"자동차 장난감\",\n",
    "\"age\" : \"2\",\n",
    "\"total_page\" : \"5\"\n",
    "-->\n",
    "output \n",
    "{\n",
    "   \"title\" : \"유진이와 자동차 장난감의 숲속의 마법 여행\",\n",
    "   \"pages\" : [\n",
    "      {\n",
    "         \"txt\" : \"유진이는 가족들에게 인사를 하고, 자동차 장난감과 함께 숲으로 여행을 떠났어요. \\\"엄마 아빠 다녀오겠습니다~\\\"\",\n",
    "         \"img\" : \"A boy is happily waving with one hand to his family while holding his toy car in the other. \"\n",
    "      }\n",
    "   ]\n",
    "}\n",
    "위와 같이 user 의 정보가 포함되도록, \n",
    "랜덤한 주제로 감동적인 동화책 작성해줘.\n",
    "등장인물간의 대화도 한두개씩 넣어줘\n",
    "img 에는 고유명사나 대명사가 포함 되지 않도록 해줘.\n",
    "json 형식으로 출력해줘.\n",
    "\"\"\"\n",
    "\n",
    "image_system_prompt=\"\"\"\n",
    "(watercolor , fairy tale style) \n",
    "\"\"\"\n",
    "\n",
    "user_option = \"\"\"\n",
    "USER\n",
    "\"protagonist\" : \"{protagonist}\",\n",
    "\"preference\" : \"{preference}\",\n",
    "\"age\" : \"{age}\",\n",
    "\"total_page\" : \"{total_page}\"\n",
    "-->\n",
    "output\n",
    "\"\"\"\n"
   ]
  },
  {
   "cell_type": "code",
   "execution_count": null,
   "metadata": {},
   "outputs": [],
   "source": [
    "#read api key from file\n",
    "with open('api_key') as ifs:\n",
    "    api_key = ifs.read()\n",
    "    if len(api_key) < 10:\n",
    "        print(\"Error: api key is too short\")\n",
    "        exit(0)"
   ]
  },
  {
   "cell_type": "code",
   "execution_count": 7,
   "metadata": {},
   "outputs": [
    {
     "name": "stdout",
     "output_type": "stream",
     "text": [
      "Generated text: {\n",
      "   \"title\" : \"유진이와 장난감 자동차, 그리고 고양이의 모험\",\n",
      "   \"pages\" : [\n",
      "      {\n",
      "         \"txt\" : \"유진이는 자동차 장난감을 안고, 귀여운 고양이를 만나기 위해 집을 나섰어요.\",\n",
      "         \"img\" : \"A boy is holding his toy car and looking excitedly at a cute cat sitting on the sidewalk. \"\n",
      "      },\n",
      "      {\n",
      "         \"txt\" : \"고양이는 유진이를 따라 붙어, 어디론가 함께 가자고 말해요.\",\n",
      "         \"img\" : \"The cat is meowing and rubbing its head against the boy's leg.\"\n",
      "      },\n",
      "      {\n",
      "         \"txt\" : \"유진이와 고양이는 함께 숲속으로 들어가서 자동차 여행을 시작했어요.\",\n",
      "         \"img\" : \"The boy and cat are walking together into the woods, with the toy car in tow.\"\n",
      "      },\n",
      "      {\n",
      "         \"txt\" : \"그런데 갑자기 자동차가 멈추고 말았어요. 유진이는 그것을 고치려고 노력했지만 결국 도저히 못 고칠 것 같아요. 그때,\",\n",
      "         \"img\" : \"The boy is looking worriedly at his broken toy car, while the cat looks sympathetically at him.\"\n",
      "      },\n",
      "      {\n",
      "         \"txt\" : \"고양이가 장난감 자동차를 냠냠하며 먹고 있어요! 유진이는 놀라며 이런 일이 어떻게 가능한지 이해하지 못했어요.\",\n",
      "         \"img\" : \"The cat is chewing on the toy car, while the boy looks shocked and confused.\"\n",
      "      },\n",
      "      {\n",
      "         \"txt\" : \"하지만 고양이가 장난감 자동차를 소화하고 나니, 무려 날아다니기 시작했어요! 유진이와 고양이는 의외의 새로운 여행을 즐기기 시작했어요.\",\n",
      "         \"img\" : \"The toy car magically turns into a flying machine, with the boy and cat sitting inside and soaring up into the sky.\"\n",
      "      },\n",
      "      {\n",
      "         \"txt\" : \"날아가면서 유진이는 고양이와 함께 신나게 노래도 불렀어요.\",\n",
      "         \"img\" : \"The boy is singing and the cat is meowing, as they enjoy their adventurous sky ride.\"\n",
      "      },\n",
      "      {\n",
      "         \"txt\" : \"그 끝에는 어딘가에 도착해서, 유진이와 고양이는 자동차 여행을 함께 성공적으로 마무리 했어요.\",\n",
      "         \"img\" : \"The boy and cat successfully complete their journey, with the toy car by their side.\"\n",
      "      },\n",
      "      {\n",
      "         \"txt\" : \"유진이와 고양이는 이번 여행에서 많은 것을 배웠어요. 어떤 일이든 동료와 함께 하면 더욱 즐거울 수 있다는 것을 알게 된 거죠.\",\n",
      "         \"img\" : \"The boy and cat sit together, looking content and thoughtful.\"\n",
      "      },\n",
      "      {\n",
      "         \"txt\" : \"그리고, 자동차 장난감을 먹으면 미래에는 날아다닐 수 있다는 것도 배웠나봐요!\",\n",
      "         \"img\" : \"The flying toy car hovers next to the boy and cat, as they both look amazed.\"\n",
      "      }\n",
      "   ]\n",
      "}\n",
      "Save success!\n"
     ]
    }
   ],
   "source": [
    "user_info = {\n",
    "    \"protagonist\" : \"백유진\",\n",
    "    \"preference\" : \"장난감 자동차와 고양이\",\n",
    "    \"age\" : \"2\",\n",
    "    \"total_page\" : \"10\"\n",
    "}\n",
    "\n",
    "user_prompt = text_system_prompt + \"\\n\" + user_option.format(**user_info)\n",
    "\n",
    "generated_text = generate_text(user_prompt, api_key, \"gpt-3.5-turbo\")\n",
    "if generated_text:  \n",
    "    print(f\"Generated text: {generated_text}\")\n",
    "    book_json = json.loads(generated_text)\n",
    "    book_json['id'] = datetime.datetime.now().strftime(\"%Y%m%d%H%M%S\")\n",
    "    book_prefix = f\"{book_json['id']}_{book_json['title']}\"\n",
    "    book_path = os.path.join('results', book_prefix)\n",
    "    if not os.path.exists(book_path):\n",
    "        os.makedirs(book_path)   \n",
    "\n",
    "    with open(os.path.join(book_path, book_prefix + \".json\"), 'w', encoding='utf-8') as f:\n",
    "        json.dump(book_json, f, ensure_ascii=False, indent=4)\n",
    "    \n",
    "    print(\"Save success!\")"
   ]
  },
  {
   "cell_type": "code",
   "execution_count": 8,
   "metadata": {},
   "outputs": [
    {
     "data": {
      "text/plain": [
       "'{\\n   \"title\" : \"유진이와 장난감 자동차, 그리고 고양이의 모험\",\\n   \"pages\" : [\\n      {\\n         \"txt\" : \"유진이는 자동차 장난감을 안고, 귀여운 고양이를 만나기 위해 집을 나섰어요.\",\\n         \"img\" : \"A boy is holding his toy car and looking excitedly at a cute cat sitting on the sidewalk. \"\\n      },\\n      {\\n         \"txt\" : \"고양이는 유진이를 따라 붙어, 어디론가 함께 가자고 말해요.\",\\n         \"img\" : \"The cat is meowing and rubbing its head against the boy\\'s leg.\"\\n      },\\n      {\\n         \"txt\" : \"유진이와 고양이는 함께 숲속으로 들어가서 자동차 여행을 시작했어요.\",\\n         \"img\" : \"The boy and cat are walking together into the woods, with the toy car in tow.\"\\n      },\\n      {\\n         \"txt\" : \"그런데 갑자기 자동차가 멈추고 말았어요. 유진이는 그것을 고치려고 노력했지만 결국 도저히 못 고칠 것 같아요. 그때,\",\\n         \"img\" : \"The boy is looking worriedly at his broken toy car, while the cat looks sympathetically at him.\"\\n      },\\n      {\\n         \"txt\" : \"고양이가 장난감 자동차를 냠냠하며 먹고 있어요! 유진이는 놀라며 이런 일이 어떻게 가능한지 이해하지 못했어요.\",\\n         \"img\" : \"The cat is chewing on the toy car, while the boy looks shocked and confused.\"\\n      },\\n      {\\n         \"txt\" : \"하지만 고양이가 장난감 자동차를 소화하고 나니, 무려 날아다니기 시작했어요! 유진이와 고양이는 의외의 새로운 여행을 즐기기 시작했어요.\",\\n         \"img\" : \"The toy car magically turns into a flying machine, with the boy and cat sitting inside and soaring up into the sky.\"\\n      },\\n      {\\n         \"txt\" : \"날아가면서 유진이는 고양이와 함께 신나게 노래도 불렀어요.\",\\n         \"img\" : \"The boy is singing and the cat is meowing, as they enjoy their adventurous sky ride.\"\\n      },\\n      {\\n         \"txt\" : \"그 끝에는 어딘가에 도착해서, 유진이와 고양이는 자동차 여행을 함께 성공적으로 마무리 했어요.\",\\n         \"img\" : \"The boy and cat successfully complete their journey, with the toy car by their side.\"\\n      },\\n      {\\n         \"txt\" : \"유진이와 고양이는 이번 여행에서 많은 것을 배웠어요. 어떤 일이든 동료와 함께 하면 더욱 즐거울 수 있다는 것을 알게 된 거죠.\",\\n         \"img\" : \"The boy and cat sit together, looking content and thoughtful.\"\\n      },\\n      {\\n         \"txt\" : \"그리고, 자동차 장난감을 먹으면 미래에는 날아다닐 수 있다는 것도 배웠나봐요!\",\\n         \"img\" : \"The flying toy car hovers next to the boy and cat, as they both look amazed.\"\\n      }\\n   ]\\n}'"
      ]
     },
     "execution_count": 8,
     "metadata": {},
     "output_type": "execute_result"
    }
   ],
   "source": [
    "generated_text\n"
   ]
  },
  {
   "cell_type": "code",
   "execution_count": 9,
   "metadata": {},
   "outputs": [
    {
     "name": "stdout",
     "output_type": "stream",
     "text": [
      "Save success!\n"
     ]
    }
   ],
   "source": [
    "book_json = generate_and_download_img(api_key, \"image-alpha-001\", image_system_prompt, book_json)\n",
    "\n",
    "book_prefix = f\"{book_json['id']}_{book_json['title']}\"\n",
    "book_path = os.path.join('results', book_prefix, book_prefix + \".json\")\n",
    "with open(book_path, 'w', encoding='utf-8') as f:\n",
    "    json.dump(book_json, f, ensure_ascii=False, indent=4)\n",
    "\n",
    "print(\"Save success!\")"
   ]
  },
  {
   "cell_type": "code",
   "execution_count": 11,
   "metadata": {},
   "outputs": [
    {
     "name": "stdout",
     "output_type": "stream",
     "text": [
      "{'title': '유진이와 장난감 자동차, 그리고 고양이의 모험', 'pages': [{'txt': '유진이는 자동차 장난감을 안고, 귀여운 고양이를 만나기 위해 집을 나섰어요.', 'img': 'results/20230320004919_유진이와 장난감 자동차, 그리고 고양이의 모험/images/20230320004919_0.jpg'}, {'txt': '고양이는 유진이를 따라 붙어, 어디론가 함께 가자고 말해요.', 'img': 'results/20230320004919_유진이와 장난감 자동차, 그리고 고양이의 모험/images/20230320004919_1.jpg'}, {'txt': '유진이와 고양이는 함께 숲속으로 들어가서 자동차 여행을 시작했어요.', 'img': 'results/20230320004919_유진이와 장난감 자동차, 그리고 고양이의 모험/images/20230320004919_2.jpg'}, {'txt': '그런데 갑자기 자동차가 멈추고 말았어요. 유진이는 그것을 고치려고 노력했지만 결국 도저히 못 고칠 것 같아요. 그때,', 'img': 'results/20230320004919_유진이와 장난감 자동차, 그리고 고양이의 모험/images/20230320004919_3.jpg'}, {'txt': '고양이가 장난감 자동차를 냠냠하며 먹고 있어요! 유진이는 놀라며 이런 일이 어떻게 가능한지 이해하지 못했어요.', 'img': 'results/20230320004919_유진이와 장난감 자동차, 그리고 고양이의 모험/images/20230320004919_4.jpg'}, {'txt': '하지만 고양이가 장난감 자동차를 소화하고 나니, 무려 날아다니기 시작했어요! 유진이와 고양이는 의외의 새로운 여행을 즐기기 시작했어요.', 'img': 'results/20230320004919_유진이와 장난감 자동차, 그리고 고양이의 모험/images/20230320004919_5.jpg'}, {'txt': '날아가면서 유진이는 고양이와 함께 신나게 노래도 불렀어요.', 'img': 'results/20230320004919_유진이와 장난감 자동차, 그리고 고양이의 모험/images/20230320004919_6.jpg'}, {'txt': '그 끝에는 어딘가에 도착해서, 유진이와 고양이는 자동차 여행을 함께 성공적으로 마무리 했어요.', 'img': 'results/20230320004919_유진이와 장난감 자동차, 그리고 고양이의 모험/images/20230320004919_7.jpg'}, {'txt': '유진이와 고양이는 이번 여행에서 많은 것을 배웠어요. 어떤 일이든 동료와 함께 하면 더욱 즐거울 수 있다는 것을 알게 된 거죠.', 'img': 'results/20230320004919_유진이와 장난감 자동차, 그리고 고양이의 모험/images/20230320004919_8.jpg'}, {'txt': '그리고, 자동차 장난감을 먹으면 미래에는 날아다닐 수 있다는 것도 배웠나봐요!', 'img': 'results/20230320004919_유진이와 장난감 자동차, 그리고 고양이의 모험/images/20230320004919_9.jpg'}], 'id': '20230320004919'}\n",
      "saved results/20230320004919_유진이와 장난감 자동차, 그리고 고양이의 모험/20230320004919_유진이와 장난감 자동차, 그리고 고양이의 모험.pptx\n"
     ]
    }
   ],
   "source": [
    "generate_ppt(book_prefix, \"results\")"
   ]
  }
 ],
 "metadata": {
  "kernelspec": {
   "display_name": "Python 3",
   "language": "python",
   "name": "python3"
  },
  "language_info": {
   "codemirror_mode": {
    "name": "ipython",
    "version": 3
   },
   "file_extension": ".py",
   "mimetype": "text/x-python",
   "name": "python",
   "nbconvert_exporter": "python",
   "pygments_lexer": "ipython3",
   "version": "3.8.12"
  },
  "orig_nbformat": 4
 },
 "nbformat": 4,
 "nbformat_minor": 2
}
