{
 "cells": [
  {
   "cell_type": "code",
   "execution_count": null,
   "metadata": {},
   "outputs": [],
   "source": [
    "from pptx import Presentation\n",
    "from pptx.util import Inches\n",
    "\n",
    "# 새 프레젠테이션 생성\n",
    "prs = Presentation()\n",
    "\n",
    "# 제목 슬라이드 추가\n",
    "title_slide_layout = prs.slide_layouts[0]\n",
    "slide = prs.slides.add_slide(title_slide_layout)\n",
    "title = slide.shapes.title\n",
    "subtitle = slide.placeholders[1]\n",
    "\n",
    "title.text = \"제목\"\n",
    "subtitle.text = \"부제목\"\n",
    "\n",
    "# 새로운 슬라이드 추가\n",
    "bullet_slide_layout = prs.slide_layouts[1]\n",
    "slide = prs.slides.add_slide(bullet_slide_layout)\n",
    "shapes = slide.shapes\n",
    "\n",
    "# 제목\n",
    "title_shape = shapes.title\n",
    "title_shape.text = \"슬라이드 제목\"\n",
    "\n",
    "# 리스트 아이템\n",
    "bullet_shape = shapes.placeholders[1]\n",
    "tf = bullet_shape.text_frame\n",
    "tf.text = \"첫 번째 아이템\"\n",
    "\n",
    "p = tf.add_paragraph()\n",
    "p.text = \"두 번째 아이템\"\n",
    "p.level = 1\n",
    "\n",
    "# 이미지 추가\n",
    "img_path = '이미지_파일_경로'\n",
    "left = top = Inches(1)\n",
    "pic = slide.shapes.add_picture(img_path, left, top)\n",
    "\n",
    "# PPT 파일 저장\n",
    "prs.save('파일명.pptx')\n"
   ]
  }
 ],
 "metadata": {
  "kernelspec": {
   "display_name": "Python 3",
   "language": "python",
   "name": "python3"
  },
  "language_info": {
   "name": "python",
   "version": "3.8.12"
  },
  "orig_nbformat": 4
 },
 "nbformat": 4,
 "nbformat_minor": 2
}
